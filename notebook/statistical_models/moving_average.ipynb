{
 "cells": [
  {
   "cell_type": "markdown",
   "metadata": {},
   "source": [
    "# Moving Average (MA) Model\n",
    "## MA Model Defintion\n",
    "- Moving Average (MA) model, denoted as $MA(q)$ where q is the order, expresses the present value as a linear combination of\n",
    "    - The **mean** of the series\n",
    "    - The *current* & *past* **error terms**: those error terms are assumed to be mutually independent and normally distributed, just like white noise\n",
    "\n",
    "$$y_t = \\mu + \\epsilon_t + \\theta_1\\epsilon_{t-1} + ... + \\theta_q\\epsilon_{t-q}$$"
   ]
  },
  {
   "cell_type": "markdown",
   "metadata": {},
   "source": [
    "- Goal: forecast the volume of widget sales so that the company will be able to better manage its production of widgets and avoid producing too many or too few.\n",
    "- Timeline: the sales of widgets over 500 days starting in 2019 "
   ]
  },
  {
   "cell_type": "code",
   "execution_count": null,
   "metadata": {},
   "outputs": [],
   "source": []
  }
 ],
 "metadata": {
  "language_info": {
   "name": "python"
  }
 },
 "nbformat": 4,
 "nbformat_minor": 2
}
