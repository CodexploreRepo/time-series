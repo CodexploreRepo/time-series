{
 "cells": [
  {
   "cell_type": "markdown",
   "metadata": {},
   "source": [
    "# Random Walk - TLDR\n",
    "\n",
    "- Using the GOOGL dataset & apply the forecasting techniques measure their performance as follows:\n",
    "    - Keep the last 5 days of data as a test set. The rest will be the train set.\n",
    "    - Forecast the last 5 days of the closing price using naive forecasting methods and measure the MSE. Which method is the best?\n",
    "    - Plot your forecasts."
   ]
  },
  {
   "cell_type": "code",
   "execution_count": 26,
   "metadata": {},
   "outputs": [],
   "source": [
    "import pandas as pd\n",
    "import numpy as np\n",
    "\n",
    "from sklearn.metrics import mean_squared_error\n",
    "\n",
    "from statsmodels.tsa.stattools import adfuller, kpss\n",
    "from statsmodels.graphics.tsaplots import plot_acf\n",
    "\n",
    "import warnings\n",
    "warnings.filterwarnings('ignore')"
   ]
  },
  {
   "cell_type": "code",
   "execution_count": 5,
   "metadata": {},
   "outputs": [],
   "source": [
    "df = pd.read_csv(\"../data/book-time-series-forecasting-in-python/GOOGL.csv\", parse_dates=[0])\n",
    "train_df = df[['Date','Close']][:-5]\n",
    "test_df = df[['Date','Close']][-5:]"
   ]
  },
  {
   "cell_type": "markdown",
   "metadata": {},
   "source": [
    "## EDA \n",
    "- This step is to decide if Googl \"Close\" price is a random walk ?\n",
    "    - A random walk is the series which is **stationary** (ADF test) and **un-correlated** (ACF plot) after a first-order differencing\n",
    "    - Step 1: test for stationarity (ADF, KPSS test). \n",
    "        - If it is not stationary, we apply transformations (differencing or log) until stationarity is achieved. \n",
    "    - Step 2: Then we can plot the autocorrelation function (ACF).\n",
    "        - If there is no autocorrelation, we have a random walk."
   ]
  },
  {
   "cell_type": "code",
   "execution_count": 4,
   "metadata": {},
   "outputs": [],
   "source": [
    "def check_stationarity(series, p_significant=0.05):\n",
    "    # Copied from https://machinelearningmastery.com/time-series-data-stationary-python/\n",
    "\n",
    "    adfuller_result = adfuller(series)\n",
    "    kpss_result = kpss(series)\n",
    "\n",
    "    print(f'ADF Statistic : {adfuller_result[0]:.5f}, p-value: {adfuller_result[1]:.5f}')\n",
    "    print('Critical Values:')\n",
    "    for key, value in adfuller_result[4].items():\n",
    "        print('\\t%s: %.3f' % (key, value))\n",
    "    print(f'KPSS Statistic: {kpss_result[0]:.5f}, p-value: {kpss_result[1]:.5f}')\n",
    "    if (adfuller_result[1] <= p_significant) & (adfuller_result[4]['5%'] > adfuller_result[0]) & (kpss_result[1] > p_significant):\n",
    "        print(\"\\u001b[32mStationary\\u001b[0m\")\n",
    "    else:\n",
    "        print(\"\\x1b[31mNon-stationary\\x1b[0m\")"
   ]
  },
  {
   "cell_type": "code",
   "execution_count": 8,
   "metadata": {},
   "outputs": [
    {
     "name": "stdout",
     "output_type": "stream",
     "text": [
      "ADF Statistic : 0.20726, p-value: 0.97267\n",
      "Critical Values:\n",
      "\t1%: -3.458\n",
      "\t5%: -2.874\n",
      "\t10%: -2.573\n",
      "KPSS Statistic: 2.14281, p-value: 0.01000\n",
      "\u001b[31mNon-stationary\u001b[0m\n"
     ]
    }
   ],
   "source": [
    "# Keep the last five days to test your forecasts\n",
    "check_stationarity(train_df['Close'])"
   ]
  },
  {
   "cell_type": "markdown",
   "metadata": {},
   "source": [
    "- As the time-series is non-stationary, we will have to apply transformation (differencing) to stationarise the time-series."
   ]
  },
  {
   "cell_type": "code",
   "execution_count": 21,
   "metadata": {},
   "outputs": [
    {
     "name": "stdout",
     "output_type": "stream",
     "text": [
      "ADF Statistic : -5.23866, p-value: 0.00001\n",
      "Critical Values:\n",
      "\t1%: -3.458\n",
      "\t5%: -2.874\n",
      "\t10%: -2.573\n",
      "KPSS Statistic: 0.08473, p-value: 0.10000\n",
      "\u001b[32mStationary\u001b[0m\n"
     ]
    }
   ],
   "source": [
    "diff_train_arr = np.diff(train_df['Close'], n=1)\n",
    "check_stationarity(diff_train_arr)"
   ]
  },
  {
   "cell_type": "code",
   "execution_count": 24,
   "metadata": {},
   "outputs": [
    {
     "data": {
      "image/png": "[encoded data removed]",
      "text/plain": [
       "<Figure size 640x480 with 1 Axes>"
      ]
     },
     "metadata": {},
     "output_type": "display_data"
    }
   ],
   "source": [
    "# Because our random walk is not stationary, we need to apply a transformation (differencing) to make it stationary in order to retrieve useful information from the ACF plot.\n",
    "plot_acf(diff_train_arr, lags=20); "
   ]
  },
  {
   "cell_type": "markdown",
   "metadata": {},
   "source": [
    "- The shaded area represents a confidence interval. \n",
    "    - If a point is within the shaded area, then it is not significantly\n",
    "    - Otherwise, the autocorrelation coefficient is significant.\n",
    "- From the above plot, there are no significant coefficients after lag 0, or the first-order differencing of the Google \"Close\" price are un-correlated with its lags.\n",
    "- Hence, this is a clear indicator that Google \"Close\" price is a random walk"
   ]
  },
  {
   "cell_type": "markdown",
   "metadata": {},
   "source": [
    "## Forecasting with a Random Walk\n",
    "- Because a random walk process takes random steps into the future, we **cannot use statistical or deep learning** techniques to fit such a process: there is **nothing to learn from randomness** and it cannot be predicted. Instead, we must **rely on naive forecasting methods**.\n",
    "- Naive forecasting methods for this situation:\n",
    "  - **Historical mean**\n",
    "  - **Last known value**\n",
    "  - **Drift method**: a modification of predicting the last known value.\n",
    "    - In this case, we allow the values to increase or decrease over time.\n",
    "    - The rate at which values will change in the future is equal to that seen in the train set.\n",
    "    - Therefore, it is equivalent to calculating the slope between the first and last value of the train set and simply extrapolating this straight line into the future.\n",
    "      - $y_f$ the last value in the training set\n",
    "      - $y_i$ the initial value in the training set\n",
    "        $$\\text{slope (drift)}= \\frac{\\Delta y}{\\Delta x} = \\frac {y_f - y_i}{\\text{number of timesteps} - 1}$$\n",
    "        $$forecast = slope * timestep + y_i$$\n",
    "  - **Forecasting the next timestep using the previous value**\n",
    "    - For example: the observed value at 8:00 a.m. is used to forecast the value for 9:00 a.m., the actual value observed at 9:00 a.m. is used to forecast the value at 10:00 a.m., and so on.\n",
    "    <p align=\"center\"><img src=\"../assets/img/forecasting-next-timestep.png\" width=600></p>\n"
   ]
  },
  {
   "cell_type": "code",
   "execution_count": 25,
   "metadata": {},
   "outputs": [],
   "source": [
    "# Forecast the historical mean\n",
    "mean = np.mean(train_df['Close'])\n",
    "test_df.loc[:, 'pred_mean'] = mean\n",
    "\n",
    "# Forecast using the last knwon value\n",
    "last_value = train_df['Close'].iloc[-1]\n",
    "test_df.loc[:, 'pred_last'] = last_value\n",
    "\n",
    "# Forecast using the drift\n",
    "delta_x = len(train_df)    # The deltaX is basically the length of the training set\n",
    "delta_y = last_value - train_df['Close'].iloc[0]    # Remember to subtract the initial value of the training set\n",
    "\n",
    "drift = delta_y / delta_x\n",
    "\n",
    "x_vals = np.arange(248, 253, 1)\n",
    "\n",
    "pred_drift = drift * x_vals + train_df['Close'].iloc[0]    #A Add the initial value back in the predictions\n",
    "\n",
    "test_df.loc[:, 'pred_drift'] = pred_drift"
   ]
  },
  {
   "cell_type": "code",
   "execution_count": 27,
   "metadata": {},
   "outputs": [
    {
     "name": "stdout",
     "output_type": "stream",
     "text": [
      "356025.96701539395 447.82398976418415 293.3287644069853\n"
     ]
    }
   ],
   "source": [
    "googl_mse_mean = mean_squared_error(test_df['Close'], test_df['pred_mean'])\n",
    "googl_mse_last = mean_squared_error(test_df['Close'], test_df['pred_last'])\n",
    "googl_mse_drift = mean_squared_error(test_df['Close'], test_df['pred_drift'])\n",
    "\n",
    "print(googl_mse_mean, googl_mse_last, googl_mse_drift)"
   ]
  },
  {
   "cell_type": "code",
   "execution_count": 29,
   "metadata": {},
   "outputs": [
    {
     "name": "stdout",
     "output_type": "stream",
     "text": [
      "674.8857699967758\n"
     ]
    }
   ],
   "source": [
    "# Forecast the next timestep with the previous timestep's value\n",
    "df_shift = df.shift(1)\n",
    "mse_one_step = mean_squared_error(test_df['Close'], df_shift['Close'].iloc[-5:])\n",
    "print(mse_one_step)"
   ]
  },
  {
   "cell_type": "markdown",
   "metadata": {},
   "source": [
    "- In this example, the drift method yields the best result"
   ]
  },
  {
   "cell_type": "code",
   "execution_count": null,
   "metadata": {},
   "outputs": [],
   "source": []
  }
 ],
 "metadata": {
  "kernelspec": {
   "display_name": "time-series",
   "language": "python",
   "name": "python3"
  },
  "language_info": {
   "codemirror_mode": {
    "name": "ipython",
    "version": 3
   },
   "file_extension": ".py",
   "mimetype": "text/x-python",
   "name": "python",
   "nbconvert_exporter": "python",
   "pygments_lexer": "ipython3",
   "version": "3.12.2"
  }
 },
 "nbformat": 4,
 "nbformat_minor": 2
}
